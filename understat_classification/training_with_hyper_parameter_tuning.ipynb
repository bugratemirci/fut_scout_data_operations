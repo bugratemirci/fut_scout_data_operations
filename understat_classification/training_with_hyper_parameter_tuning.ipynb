{
 "cells": [
  {
   "cell_type": "markdown",
   "metadata": {},
   "source": [
    "# Default parametrelerle denenen modellerin hyper parametre tuningi ile tekrar sonuçlarının kontrol edilmesi"
   ]
  },
  {
   "cell_type": "markdown",
   "metadata": {},
   "source": [
    "## Kütüphanelerin import edilmesi"
   ]
  },
  {
   "cell_type": "code",
   "execution_count": 1,
   "metadata": {},
   "outputs": [],
   "source": [
    "from sklearn.model_selection import GridSearchCV\n",
    "import matplotlib.pyplot as plt\n",
    "import seaborn as sns\n",
    "import pandas as pd\n",
    "import numpy as np\n",
    "\n",
    "from sklearn.model_selection import train_test_split\n",
    "from sklearn.neighbors import KNeighborsClassifier\n",
    "from sklearn.preprocessing import StandardScaler\n",
    "from sklearn.tree import DecisionTreeClassifier\n",
    "from sklearn.decomposition import PCA\n",
    "from sklearn import metrics\n",
    "\n",
    "from tensorflow.keras.utils import to_categorical"
   ]
  },
  {
   "cell_type": "markdown",
   "metadata": {},
   "source": [
    "## GridSearch İşlemi Uygulanacak Makine Öğrenimi Modellerinin Tanımlanması"
   ]
  },
  {
   "cell_type": "markdown",
   "metadata": {},
   "source": [
    "### KNN Grid Search Uygulanması ve optimum parametrelerin bulunması"
   ]
  },
  {
   "cell_type": "code",
   "execution_count": 2,
   "metadata": {},
   "outputs": [
    {
     "name": "stdout",
     "output_type": "stream",
     "text": [
      "Fitting 10 folds for each of 30 candidates, totalling 300 fits\n",
      "{'n_neighbors': 3}\n"
     ]
    }
   ],
   "source": [
    "df = pd.read_csv('data/clustered_data.csv').drop(['id', 'player_name', 'position'], axis=1)\n",
    "X = df.drop(['classes'], axis = 1).values\n",
    "y = df['classes']\n",
    "n_cols = len(np.unique(y))\n",
    "\n",
    "sc = StandardScaler()\n",
    "X = sc.fit_transform(X)\n",
    "\n",
    "pca = PCA(2)\n",
    "X = pca.fit_transform(X)\n",
    "\n",
    "X_train, X_test, y_train, y_test = train_test_split(\n",
    "        X, y, test_size=0.36, random_state=14)\n",
    "\n",
    "y_train = to_categorical(y_train)\n",
    "y_test = to_categorical(y_test)\n",
    "\n",
    "knn = KNeighborsClassifier()\n",
    "decision_tree = DecisionTreeClassifier()\n",
    "\n",
    "k_range = list(range(1, 31))\n",
    "param_grid = dict(n_neighbors=k_range)\n",
    "\n",
    "grid = GridSearchCV(knn, param_grid, cv=10, scoring='accuracy',\n",
    "                    return_train_score=False, verbose=1)\n",
    "\n",
    "\n",
    "grid_search=grid.fit(X_train, y_train)\n",
    "\n",
    "print(grid_search.best_params_)\n",
    "n_neighbors = grid_search.best_params_['n_neighbors']"
   ]
  },
  {
   "cell_type": "code",
   "execution_count": 3,
   "metadata": {},
   "outputs": [
    {
     "name": "stdout",
     "output_type": "stream",
     "text": [
      "Parametre tuningi sonucu çıkan optimum başarım : 98.14%\n"
     ]
    }
   ],
   "source": [
    "accuracy = grid_search.best_score_ *100\n",
    "print(\"Parametre tuningi sonucu çıkan optimum başarım : {:.2f}%\".format(accuracy) )"
   ]
  },
  {
   "cell_type": "code",
   "execution_count": 4,
   "metadata": {},
   "outputs": [
    {
     "name": "stdout",
     "output_type": "stream",
     "text": [
      "Bu parametrenin test seti üzerindeki başarısı : 98.12%\n"
     ]
    }
   ],
   "source": [
    "from sklearn.metrics import confusion_matrix, accuracy_score\n",
    "\n",
    "knn = KNeighborsClassifier(n_neighbors=n_neighbors)\n",
    "\n",
    "knn.fit(X_train, y_train)\n",
    "\n",
    "y_pred=knn.predict(X_test) \n",
    "\n",
    "test_accuracy=accuracy_score(y_test,y_pred)*100\n",
    "\n",
    "print(\"Bu parametrenin test seti üzerindeki başarısı : {:.2f}%\".format(test_accuracy) )"
   ]
  },
  {
   "cell_type": "code",
   "execution_count": 5,
   "metadata": {},
   "outputs": [
    {
     "data": {
      "image/png": "[encoded data removed]",
      "text/plain": [
       "<Figure size 432x288 with 2 Axes>"
      ]
     },
     "metadata": {
      "needs_background": "light"
     },
     "output_type": "display_data"
    },
    {
     "data": {
      "text/plain": [
       "<Figure size 432x288 with 0 Axes>"
      ]
     },
     "metadata": {},
     "output_type": "display_data"
    }
   ],
   "source": [
    "cm = confusion_matrix(\n",
    "    y_test.argmax(axis=1), y_pred.argmax(axis=1))\n",
    "\n",
    "sns.heatmap(pd.DataFrame(cm),\n",
    "                        annot=True, cmap=\"YlGnBu\", fmt='g')\n",
    "plt.title('Confusion matrix', y=1.1)\n",
    "plt.ylabel('Actual label')\n",
    "plt.xlabel('Predicted label')\n",
    "\n",
    "plt.show()\n",
    "plt.clf()\n"
   ]
  },
  {
   "cell_type": "markdown",
   "metadata": {},
   "source": [
    "### Decision Tree GridSearch Uygulanması ve optimum parametrelerin bulunması"
   ]
  },
  {
   "cell_type": "code",
   "execution_count": 6,
   "metadata": {},
   "outputs": [
    {
     "name": "stdout",
     "output_type": "stream",
     "text": [
      "Fitting 10 folds for each of 36 candidates, totalling 360 fits\n",
      "{'criterion': 'entropy', 'max_depth': 15}\n"
     ]
    }
   ],
   "source": [
    "df = pd.read_csv('data/clustered_data.csv').drop(['id', 'player_name', 'position'], axis=1)\n",
    "X = df.drop(['classes'], axis = 1).values\n",
    "y = df['classes']\n",
    "n_cols = len(np.unique(y))\n",
    "\n",
    "sc = StandardScaler()\n",
    "X = sc.fit_transform(X)\n",
    "\n",
    "pca = PCA(2)\n",
    "X = pca.fit_transform(X)\n",
    "\n",
    "X_train, X_test, y_train, y_test = train_test_split(\n",
    "        X, y, test_size=0.36, random_state=14)\n",
    "\n",
    "y_train = to_categorical(y_train)\n",
    "y_test = to_categorical(y_test)\n",
    "\n",
    "decision_tree = DecisionTreeClassifier()\n",
    "\n",
    "param_grid = {'criterion': ['gini', 'entropy'], 'max_depth': [\n",
    "    4, 5, 6, 7, 8, 9, 10, 11, 12, 15, 20, 30, 40, 50, 70, 90, 120, 150]}\n",
    "\n",
    "grid = GridSearchCV(decision_tree, param_grid, cv=10, scoring='accuracy',\n",
    "                    return_train_score=False, verbose=1)\n",
    "\n",
    "\n",
    "grid_search = grid.fit(X_train, y_train)\n",
    "\n",
    "print(grid_search.best_params_)\n",
    "criterion = grid_search.best_params_['criterion']\n",
    "max_depth = grid_search.best_params_['max_depth']"
   ]
  },
  {
   "cell_type": "code",
   "execution_count": 7,
   "metadata": {},
   "outputs": [
    {
     "name": "stdout",
     "output_type": "stream",
     "text": [
      "Parametre tuningi sonucu çıkan optimum başarım : 97.71%\n"
     ]
    }
   ],
   "source": [
    "accuracy = grid_search.best_score_ *100\n",
    "print(\"Parametre tuningi sonucu çıkan optimum başarım : {:.2f}%\".format(accuracy) )"
   ]
  },
  {
   "cell_type": "code",
   "execution_count": 8,
   "metadata": {},
   "outputs": [
    {
     "name": "stdout",
     "output_type": "stream",
     "text": [
      "Bu parametrenin test seti üzerindeki başarısı : 98.12%\n"
     ]
    }
   ],
   "source": [
    "from sklearn.metrics import confusion_matrix, accuracy_score\n",
    "\n",
    "decision_tree = DecisionTreeClassifier(criterion=criterion, max_depth=max_depth)\n",
    "\n",
    "decision_tree.fit(X_train, y_train)\n",
    "\n",
    "y_pred=decision_tree.predict(X_test) \n",
    "\n",
    "test_accuracy=accuracy_score(y_test,y_pred)*100\n",
    "\n",
    "print(\"Bu parametrenin test seti üzerindeki başarısı : {:.2f}%\".format(test_accuracy) )"
   ]
  },
  {
   "cell_type": "code",
   "execution_count": 9,
   "metadata": {},
   "outputs": [
    {
     "data": {
      "image/png": "[encoded data removed]",
      "text/plain": [
       "<Figure size 432x288 with 2 Axes>"
      ]
     },
     "metadata": {
      "needs_background": "light"
     },
     "output_type": "display_data"
    },
    {
     "data": {
      "text/plain": [
       "<Figure size 432x288 with 0 Axes>"
      ]
     },
     "metadata": {},
     "output_type": "display_data"
    }
   ],
   "source": [
    "cm = confusion_matrix(\n",
    "    y_test.argmax(axis=1), y_pred.argmax(axis=1))\n",
    "\n",
    "sns.heatmap(pd.DataFrame(cm),\n",
    "                        annot=True, cmap=\"YlGnBu\", fmt='g')\n",
    "plt.title('Confusion matrix', y=1.1)\n",
    "plt.ylabel('Actual label')\n",
    "plt.xlabel('Predicted label')\n",
    "\n",
    "plt.show()\n",
    "plt.clf()"
   ]
  }
 ],
 "metadata": {
  "interpreter": {
   "hash": "7655d9d87d72f7863ec8a6d3178f838b8e50288ba076228c8841638c6799c4ae"
  },
  "kernelspec": {
   "display_name": "Python 3.8.8 64-bit",
   "language": "python",
   "name": "python3"
  },
  "language_info": {
   "codemirror_mode": {
    "name": "ipython",
    "version": 3
   },
   "file_extension": ".py",
   "mimetype": "text/x-python",
   "name": "python",
   "nbconvert_exporter": "python",
   "pygments_lexer": "ipython3",
   "version": "3.8.8"
  },
  "orig_nbformat": 4
 },
 "nbformat": 4,
 "nbformat_minor": 2
}
